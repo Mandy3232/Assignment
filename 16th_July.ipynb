{
  "nbformat": 4,
  "nbformat_minor": 0,
  "metadata": {
    "colab": {
      "name": "16th July.ipynb",
      "version": "0.3.2",
      "provenance": [],
      "collapsed_sections": [],
      "include_colab_link": true
    },
    "kernelspec": {
      "name": "python3",
      "display_name": "Python 3"
    }
  },
  "cells": [
    {
      "cell_type": "markdown",
      "metadata": {
        "id": "view-in-github",
        "colab_type": "text"
      },
      "source": [
        "<a href=\"https://colab.research.google.com/github/Mandy3232/Assignment/blob/master/16th_July.ipynb\" target=\"_parent\"><img src=\"https://colab.research.google.com/assets/colab-badge.svg\" alt=\"Open In Colab\"/></a>"
      ]
    },
    {
      "cell_type": "code",
      "metadata": {
        "id": "2EpJL_Smk2LA",
        "colab_type": "code",
        "outputId": "4aca3335-bebc-4ed0-b26e-1813ce1223d1",
        "colab": {
          "base_uri": "https://localhost:8080/",
          "height": 104
        }
      },
      "source": [
        "for i in range (1,6):\n",
        "  print(\"*\"*i)"
      ],
      "execution_count": 0,
      "outputs": [
        {
          "output_type": "stream",
          "text": [
            "*\n",
            "**\n",
            "***\n",
            "****\n",
            "*****\n"
          ],
          "name": "stdout"
        }
      ]
    },
    {
      "cell_type": "code",
      "metadata": {
        "id": "ab9eCds-rvnS",
        "colab_type": "code",
        "outputId": "d271fb68-05a7-4d1c-d79b-9ed7e584ebde",
        "colab": {
          "base_uri": "https://localhost:8080/",
          "height": 104
        }
      },
      "source": [
        "for i in range (5,0,-1):\n",
        "  print(\"*\"*i)"
      ],
      "execution_count": 0,
      "outputs": [
        {
          "output_type": "stream",
          "text": [
            "*****\n",
            "****\n",
            "***\n",
            "**\n",
            "*\n"
          ],
          "name": "stdout"
        }
      ]
    },
    {
      "cell_type": "code",
      "metadata": {
        "id": "66NPMXO2sMdz",
        "colab_type": "code",
        "outputId": "6281cdc7-14aa-4a69-b4c7-93ae7eac0b62",
        "colab": {
          "base_uri": "https://localhost:8080/",
          "height": 104
        }
      },
      "source": [
        "for i in range (1,4,):\n",
        "  print(\"*\"*i)\n",
        "for j in range (2,0,-1):\n",
        "  print(\"*\"*j)"
      ],
      "execution_count": 0,
      "outputs": [
        {
          "output_type": "stream",
          "text": [
            "*\n",
            "**\n",
            "***\n",
            "**\n",
            "*\n"
          ],
          "name": "stdout"
        }
      ]
    },
    {
      "cell_type": "code",
      "metadata": {
        "id": "URJAS-pAspQ7",
        "colab_type": "code",
        "colab": {}
      },
      "source": [
        ""
      ],
      "execution_count": 0,
      "outputs": []
    },
    {
      "cell_type": "code",
      "metadata": {
        "id": "NOOiKCCNwiGW",
        "colab_type": "code",
        "outputId": "4e68384b-bbe1-4c25-d466-a165bf0d229d",
        "colab": {
          "base_uri": "https://localhost:8080/",
          "height": 207
        }
      },
      "source": [
        "def patr(num):\n",
        "  count=0\n",
        "  for i in range (1,num+1):\n",
        "    if i<=int(num/2):\n",
        "      print(\"*\"*i)\n",
        "    else:\n",
        "      count+=2\n",
        "      print(\"*\"*(i-count))\n",
        "val=int(input(\"enter a number\"))\n",
        "patr(val)"
      ],
      "execution_count": 0,
      "outputs": [
        {
          "output_type": "stream",
          "text": [
            "enter a number10\n",
            "*\n",
            "**\n",
            "***\n",
            "****\n",
            "*****\n",
            "****\n",
            "***\n",
            "**\n",
            "*\n",
            "\n"
          ],
          "name": "stdout"
        }
      ]
    },
    {
      "cell_type": "code",
      "metadata": {
        "id": "P7jHXgbU0YNv",
        "colab_type": "code",
        "outputId": "c89de1a9-6905-4063-8790-856317ee152e",
        "colab": {
          "base_uri": "https://localhost:8080/",
          "height": 207
        }
      },
      "source": [
        "def patr(num):\n",
        "  count=0\n",
        "  k=int((num+1)/2)\n",
        "  for i in range (1,num+1):\n",
        "    if i<=int(num/2):\n",
        "      print(\" \"*k,\"*\"*i)\n",
        "      k=k-1\n",
        "    else:\n",
        "      count+=2\n",
        "      print(\" \"*(k+2),\"*\"*(i-count))\n",
        "      k=k+1\n",
        "val=int(input(\"enter a number\"))\n",
        "patr(val)"
      ],
      "execution_count": 0,
      "outputs": [
        {
          "output_type": "stream",
          "text": [
            "enter a number10\n",
            "      *\n",
            "     **\n",
            "    ***\n",
            "   ****\n",
            "  *****\n",
            "   ****\n",
            "    ***\n",
            "     **\n",
            "      *\n",
            "       \n"
          ],
          "name": "stdout"
        }
      ]
    }
  ]
}