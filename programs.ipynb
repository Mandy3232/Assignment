{
  "nbformat": 4,
  "nbformat_minor": 0,
  "metadata": {
    "colab": {
      "name": "programs.ipynb",
      "version": "0.3.2",
      "provenance": [],
      "collapsed_sections": [],
      "include_colab_link": true
    },
    "kernelspec": {
      "name": "python3",
      "display_name": "Python 3"
    }
  },
  "cells": [
    {
      "cell_type": "markdown",
      "metadata": {
        "id": "view-in-github",
        "colab_type": "text"
      },
      "source": [
        "<a href=\"https://colab.research.google.com/github/Mandy3232/Assignment/blob/master/programs.ipynb\" target=\"_parent\"><img src=\"https://colab.research.google.com/assets/colab-badge.svg\" alt=\"Open In Colab\"/></a>"
      ]
    },
    {
      "cell_type": "markdown",
      "metadata": {
        "id": "vWDphkuwcnm-",
        "colab_type": "text"
      },
      "source": [
        "Check If A Number Is Even Or Odd"
      ]
    },
    {
      "cell_type": "code",
      "metadata": {
        "id": "4pM03LZ8c56M",
        "colab_type": "code",
        "outputId": "15c311e9-3d34-44ab-a9c3-b2c9990437c2",
        "colab": {
          "base_uri": "https://localhost:8080/",
          "height": 52
        }
      },
      "source": [
        "def check_num(n):\n",
        "  if n%2==0:\n",
        "    print(\"number is even\")\n",
        "  else:\n",
        "    print(\"number is odd\")\n",
        "\n",
        "val=int(input(\"input a number\"))\n",
        "check_num(val)"
      ],
      "execution_count": 0,
      "outputs": [
        {
          "output_type": "stream",
          "text": [
            "input a number5\n",
            "number is odd\n"
          ],
          "name": "stdout"
        }
      ]
    },
    {
      "cell_type": "markdown",
      "metadata": {
        "id": "FD37ZKyhgQ_9",
        "colab_type": "text"
      },
      "source": [
        "Check If Number Is Prime"
      ]
    },
    {
      "cell_type": "code",
      "metadata": {
        "id": "tsFtSL7MgYKa",
        "colab_type": "code",
        "outputId": "074ae4f0-e065-4fb7-ce05-929896eeb461",
        "colab": {
          "base_uri": "https://localhost:8080/",
          "height": 52
        }
      },
      "source": [
        "def check_prime(n):\n",
        "  i=1\n",
        "  j=0\n",
        "  \n",
        "  while(i<=n):\n",
        "    if n%i==0:\n",
        "       j+=1\n",
        "    i+=1\n",
        "    \n",
        "  if j==2:\n",
        "      print(\"number is prime\")\n",
        "  else:\n",
        "      print(\"number is not prime\")\n",
        "      \n",
        "\n",
        "val=int(input(\"input a number\"))\n",
        "check_prime(val)"
      ],
      "execution_count": 0,
      "outputs": [
        {
          "output_type": "stream",
          "text": [
            "input a number1000\n",
            "number is not prime\n"
          ],
          "name": "stdout"
        }
      ]
    },
    {
      "cell_type": "markdown",
      "metadata": {
        "id": "l9H913dx7cFP",
        "colab_type": "text"
      },
      "source": [
        "Print Fibonacci Series"
      ]
    },
    {
      "cell_type": "code",
      "metadata": {
        "id": "nKnB4nxv7oLe",
        "colab_type": "code",
        "outputId": "ce708c61-ac50-47d0-b2e6-993ab995a0a5",
        "colab": {
          "base_uri": "https://localhost:8080/",
          "height": 207
        }
      },
      "source": [
        "def fib_ser(n):\n",
        "  a=0\n",
        "  b=1\n",
        "  print(a)\n",
        "  print(b)\n",
        "  for i in range(2,n):\n",
        "    c=a+b\n",
        "    a=b\n",
        "    b=c\n",
        "    print(c)\n",
        "    \n",
        "val=int(input(\"input a number\"))\n",
        "fib_ser(val)"
      ],
      "execution_count": 0,
      "outputs": [
        {
          "output_type": "stream",
          "text": [
            "input a number10\n",
            "0\n",
            "1\n",
            "1\n",
            "2\n",
            "3\n",
            "5\n",
            "8\n",
            "13\n",
            "21\n",
            "34\n"
          ],
          "name": "stdout"
        }
      ]
    },
    {
      "cell_type": "markdown",
      "metadata": {
        "id": "02O4KLH4pHrf",
        "colab_type": "text"
      },
      "source": [
        "Table Upto 12"
      ]
    },
    {
      "cell_type": "code",
      "metadata": {
        "id": "AzKujLT3c7ok",
        "colab_type": "code",
        "outputId": "9c1bc8b1-e61a-4c7d-c1d1-7e59a6e6bef3",
        "colab": {
          "base_uri": "https://localhost:8080/",
          "height": 1000
        }
      },
      "source": [
        "def mtab():\n",
        "  for i in range(1,13):\n",
        "    for j in range(1,11):\n",
        "      k=i*j\n",
        "      print(k)\n",
        "    print(\" \")\n",
        "  \n",
        "mtab()"
      ],
      "execution_count": 0,
      "outputs": [
        {
          "output_type": "stream",
          "text": [
            "1\n",
            "2\n",
            "3\n",
            "4\n",
            "5\n",
            "6\n",
            "7\n",
            "8\n",
            "9\n",
            "10\n",
            " \n",
            "2\n",
            "4\n",
            "6\n",
            "8\n",
            "10\n",
            "12\n",
            "14\n",
            "16\n",
            "18\n",
            "20\n",
            " \n",
            "3\n",
            "6\n",
            "9\n",
            "12\n",
            "15\n",
            "18\n",
            "21\n",
            "24\n",
            "27\n",
            "30\n",
            " \n",
            "4\n",
            "8\n",
            "12\n",
            "16\n",
            "20\n",
            "24\n",
            "28\n",
            "32\n",
            "36\n",
            "40\n",
            " \n",
            "5\n",
            "10\n",
            "15\n",
            "20\n",
            "25\n",
            "30\n",
            "35\n",
            "40\n",
            "45\n",
            "50\n",
            " \n",
            "6\n",
            "12\n",
            "18\n",
            "24\n",
            "30\n",
            "36\n",
            "42\n",
            "48\n",
            "54\n",
            "60\n",
            " \n",
            "7\n",
            "14\n",
            "21\n",
            "28\n",
            "35\n",
            "42\n",
            "49\n",
            "56\n",
            "63\n",
            "70\n",
            " \n",
            "8\n",
            "16\n",
            "24\n",
            "32\n",
            "40\n",
            "48\n",
            "56\n",
            "64\n",
            "72\n",
            "80\n",
            " \n",
            "9\n",
            "18\n",
            "27\n",
            "36\n",
            "45\n",
            "54\n",
            "63\n",
            "72\n",
            "81\n",
            "90\n",
            " \n",
            "10\n",
            "20\n",
            "30\n",
            "40\n",
            "50\n",
            "60\n",
            "70\n",
            "80\n",
            "90\n",
            "100\n",
            " \n",
            "11\n",
            "22\n",
            "33\n",
            "44\n",
            "55\n",
            "66\n",
            "77\n",
            "88\n",
            "99\n",
            "110\n",
            " \n",
            "12\n",
            "24\n",
            "36\n",
            "48\n",
            "60\n",
            "72\n",
            "84\n",
            "96\n",
            "108\n",
            "120\n",
            " \n"
          ],
          "name": "stdout"
        }
      ]
    },
    {
      "cell_type": "markdown",
      "metadata": {
        "id": "sJqTpvylgTBT",
        "colab_type": "text"
      },
      "source": [
        "Sum Of Squares Of Numbers From 1 To n"
      ]
    },
    {
      "cell_type": "code",
      "metadata": {
        "id": "G43gHfENgmvG",
        "colab_type": "code",
        "outputId": "91e8bdda-99fb-4aff-d2d9-d971865e6553",
        "colab": {
          "base_uri": "https://localhost:8080/",
          "height": 52
        }
      },
      "source": [
        "def sos(n):\n",
        "  s=0\n",
        "  for i in range (1,n+1):\n",
        "    k=i**2\n",
        "    s=s+k\n",
        "  print(s)\n",
        "val=int(input(\"input a number\"))\n",
        "sos(val)"
      ],
      "execution_count": 0,
      "outputs": [
        {
          "output_type": "stream",
          "text": [
            "input a number3\n",
            "14\n"
          ],
          "name": "stdout"
        }
      ]
    },
    {
      "cell_type": "markdown",
      "metadata": {
        "id": "r6Yr5vGDlAO0",
        "colab_type": "text"
      },
      "source": [
        "Pick Even Numbers Between 2000 To 3000"
      ]
    },
    {
      "cell_type": "code",
      "metadata": {
        "id": "lSmDU7allMll",
        "colab_type": "code",
        "outputId": "f8fd6f1a-e44d-4773-c7d4-7c856021c3df",
        "colab": {
          "base_uri": "https://localhost:8080/",
          "height": 1000
        }
      },
      "source": [
        "def check_num():\n",
        "  for i in range (2000,3000):\n",
        "    if i%2==0:\n",
        "      print(i)\n",
        "check_num()"
      ],
      "execution_count": 0,
      "outputs": [
        {
          "output_type": "stream",
          "text": [
            "2000\n",
            "2002\n",
            "2004\n",
            "2006\n",
            "2008\n",
            "2010\n",
            "2012\n",
            "2014\n",
            "2016\n",
            "2018\n",
            "2020\n",
            "2022\n",
            "2024\n",
            "2026\n",
            "2028\n",
            "2030\n",
            "2032\n",
            "2034\n",
            "2036\n",
            "2038\n",
            "2040\n",
            "2042\n",
            "2044\n",
            "2046\n",
            "2048\n",
            "2050\n",
            "2052\n",
            "2054\n",
            "2056\n",
            "2058\n",
            "2060\n",
            "2062\n",
            "2064\n",
            "2066\n",
            "2068\n",
            "2070\n",
            "2072\n",
            "2074\n",
            "2076\n",
            "2078\n",
            "2080\n",
            "2082\n",
            "2084\n",
            "2086\n",
            "2088\n",
            "2090\n",
            "2092\n",
            "2094\n",
            "2096\n",
            "2098\n",
            "2100\n",
            "2102\n",
            "2104\n",
            "2106\n",
            "2108\n",
            "2110\n",
            "2112\n",
            "2114\n",
            "2116\n",
            "2118\n",
            "2120\n",
            "2122\n",
            "2124\n",
            "2126\n",
            "2128\n",
            "2130\n",
            "2132\n",
            "2134\n",
            "2136\n",
            "2138\n",
            "2140\n",
            "2142\n",
            "2144\n",
            "2146\n",
            "2148\n",
            "2150\n",
            "2152\n",
            "2154\n",
            "2156\n",
            "2158\n",
            "2160\n",
            "2162\n",
            "2164\n",
            "2166\n",
            "2168\n",
            "2170\n",
            "2172\n",
            "2174\n",
            "2176\n",
            "2178\n",
            "2180\n",
            "2182\n",
            "2184\n",
            "2186\n",
            "2188\n",
            "2190\n",
            "2192\n",
            "2194\n",
            "2196\n",
            "2198\n",
            "2200\n",
            "2202\n",
            "2204\n",
            "2206\n",
            "2208\n",
            "2210\n",
            "2212\n",
            "2214\n",
            "2216\n",
            "2218\n",
            "2220\n",
            "2222\n",
            "2224\n",
            "2226\n",
            "2228\n",
            "2230\n",
            "2232\n",
            "2234\n",
            "2236\n",
            "2238\n",
            "2240\n",
            "2242\n",
            "2244\n",
            "2246\n",
            "2248\n",
            "2250\n",
            "2252\n",
            "2254\n",
            "2256\n",
            "2258\n",
            "2260\n",
            "2262\n",
            "2264\n",
            "2266\n",
            "2268\n",
            "2270\n",
            "2272\n",
            "2274\n",
            "2276\n",
            "2278\n",
            "2280\n",
            "2282\n",
            "2284\n",
            "2286\n",
            "2288\n",
            "2290\n",
            "2292\n",
            "2294\n",
            "2296\n",
            "2298\n",
            "2300\n",
            "2302\n",
            "2304\n",
            "2306\n",
            "2308\n",
            "2310\n",
            "2312\n",
            "2314\n",
            "2316\n",
            "2318\n",
            "2320\n",
            "2322\n",
            "2324\n",
            "2326\n",
            "2328\n",
            "2330\n",
            "2332\n",
            "2334\n",
            "2336\n",
            "2338\n",
            "2340\n",
            "2342\n",
            "2344\n",
            "2346\n",
            "2348\n",
            "2350\n",
            "2352\n",
            "2354\n",
            "2356\n",
            "2358\n",
            "2360\n",
            "2362\n",
            "2364\n",
            "2366\n",
            "2368\n",
            "2370\n",
            "2372\n",
            "2374\n",
            "2376\n",
            "2378\n",
            "2380\n",
            "2382\n",
            "2384\n",
            "2386\n",
            "2388\n",
            "2390\n",
            "2392\n",
            "2394\n",
            "2396\n",
            "2398\n",
            "2400\n",
            "2402\n",
            "2404\n",
            "2406\n",
            "2408\n",
            "2410\n",
            "2412\n",
            "2414\n",
            "2416\n",
            "2418\n",
            "2420\n",
            "2422\n",
            "2424\n",
            "2426\n",
            "2428\n",
            "2430\n",
            "2432\n",
            "2434\n",
            "2436\n",
            "2438\n",
            "2440\n",
            "2442\n",
            "2444\n",
            "2446\n",
            "2448\n",
            "2450\n",
            "2452\n",
            "2454\n",
            "2456\n",
            "2458\n",
            "2460\n",
            "2462\n",
            "2464\n",
            "2466\n",
            "2468\n",
            "2470\n",
            "2472\n",
            "2474\n",
            "2476\n",
            "2478\n",
            "2480\n",
            "2482\n",
            "2484\n",
            "2486\n",
            "2488\n",
            "2490\n",
            "2492\n",
            "2494\n",
            "2496\n",
            "2498\n",
            "2500\n",
            "2502\n",
            "2504\n",
            "2506\n",
            "2508\n",
            "2510\n",
            "2512\n",
            "2514\n",
            "2516\n",
            "2518\n",
            "2520\n",
            "2522\n",
            "2524\n",
            "2526\n",
            "2528\n",
            "2530\n",
            "2532\n",
            "2534\n",
            "2536\n",
            "2538\n",
            "2540\n",
            "2542\n",
            "2544\n",
            "2546\n",
            "2548\n",
            "2550\n",
            "2552\n",
            "2554\n",
            "2556\n",
            "2558\n",
            "2560\n",
            "2562\n",
            "2564\n",
            "2566\n",
            "2568\n",
            "2570\n",
            "2572\n",
            "2574\n",
            "2576\n",
            "2578\n",
            "2580\n",
            "2582\n",
            "2584\n",
            "2586\n",
            "2588\n",
            "2590\n",
            "2592\n",
            "2594\n",
            "2596\n",
            "2598\n",
            "2600\n",
            "2602\n",
            "2604\n",
            "2606\n",
            "2608\n",
            "2610\n",
            "2612\n",
            "2614\n",
            "2616\n",
            "2618\n",
            "2620\n",
            "2622\n",
            "2624\n",
            "2626\n",
            "2628\n",
            "2630\n",
            "2632\n",
            "2634\n",
            "2636\n",
            "2638\n",
            "2640\n",
            "2642\n",
            "2644\n",
            "2646\n",
            "2648\n",
            "2650\n",
            "2652\n",
            "2654\n",
            "2656\n",
            "2658\n",
            "2660\n",
            "2662\n",
            "2664\n",
            "2666\n",
            "2668\n",
            "2670\n",
            "2672\n",
            "2674\n",
            "2676\n",
            "2678\n",
            "2680\n",
            "2682\n",
            "2684\n",
            "2686\n",
            "2688\n",
            "2690\n",
            "2692\n",
            "2694\n",
            "2696\n",
            "2698\n",
            "2700\n",
            "2702\n",
            "2704\n",
            "2706\n",
            "2708\n",
            "2710\n",
            "2712\n",
            "2714\n",
            "2716\n",
            "2718\n",
            "2720\n",
            "2722\n",
            "2724\n",
            "2726\n",
            "2728\n",
            "2730\n",
            "2732\n",
            "2734\n",
            "2736\n",
            "2738\n",
            "2740\n",
            "2742\n",
            "2744\n",
            "2746\n",
            "2748\n",
            "2750\n",
            "2752\n",
            "2754\n",
            "2756\n",
            "2758\n",
            "2760\n",
            "2762\n",
            "2764\n",
            "2766\n",
            "2768\n",
            "2770\n",
            "2772\n",
            "2774\n",
            "2776\n",
            "2778\n",
            "2780\n",
            "2782\n",
            "2784\n",
            "2786\n",
            "2788\n",
            "2790\n",
            "2792\n",
            "2794\n",
            "2796\n",
            "2798\n",
            "2800\n",
            "2802\n",
            "2804\n",
            "2806\n",
            "2808\n",
            "2810\n",
            "2812\n",
            "2814\n",
            "2816\n",
            "2818\n",
            "2820\n",
            "2822\n",
            "2824\n",
            "2826\n",
            "2828\n",
            "2830\n",
            "2832\n",
            "2834\n",
            "2836\n",
            "2838\n",
            "2840\n",
            "2842\n",
            "2844\n",
            "2846\n",
            "2848\n",
            "2850\n",
            "2852\n",
            "2854\n",
            "2856\n",
            "2858\n",
            "2860\n",
            "2862\n",
            "2864\n",
            "2866\n",
            "2868\n",
            "2870\n",
            "2872\n",
            "2874\n",
            "2876\n",
            "2878\n",
            "2880\n",
            "2882\n",
            "2884\n",
            "2886\n",
            "2888\n",
            "2890\n",
            "2892\n",
            "2894\n",
            "2896\n",
            "2898\n",
            "2900\n",
            "2902\n",
            "2904\n",
            "2906\n",
            "2908\n",
            "2910\n",
            "2912\n",
            "2914\n",
            "2916\n",
            "2918\n",
            "2920\n",
            "2922\n",
            "2924\n",
            "2926\n",
            "2928\n",
            "2930\n",
            "2932\n",
            "2934\n",
            "2936\n",
            "2938\n",
            "2940\n",
            "2942\n",
            "2944\n",
            "2946\n",
            "2948\n",
            "2950\n",
            "2952\n",
            "2954\n",
            "2956\n",
            "2958\n",
            "2960\n",
            "2962\n",
            "2964\n",
            "2966\n",
            "2968\n",
            "2970\n",
            "2972\n",
            "2974\n",
            "2976\n",
            "2978\n",
            "2980\n",
            "2982\n",
            "2984\n",
            "2986\n",
            "2988\n",
            "2990\n",
            "2992\n",
            "2994\n",
            "2996\n",
            "2998\n"
          ],
          "name": "stdout"
        }
      ]
    },
    {
      "cell_type": "markdown",
      "metadata": {
        "id": "2ppsgmJunOgc",
        "colab_type": "text"
      },
      "source": [
        "Check If A Number Is Palindrome"
      ]
    },
    {
      "cell_type": "markdown",
      "metadata": {
        "id": "fZcOQXSUvPG3",
        "colab_type": "text"
      },
      "source": [
        "Palindrome"
      ]
    },
    {
      "cell_type": "code",
      "metadata": {
        "id": "4YUsXOqivRAY",
        "colab_type": "code",
        "outputId": "e5a6f99d-bb65-4f88-c506-406a4871d36e",
        "colab": {
          "base_uri": "https://localhost:8080/",
          "height": 52
        }
      },
      "source": [
        "def palindrome(num):\n",
        "  return num== \"\".join([x for x in num][::-1])\n",
        "value=input(\"enter a value\")\n",
        "palindrome(value)"
      ],
      "execution_count": 0,
      "outputs": [
        {
          "output_type": "stream",
          "text": [
            "enter a value543\n"
          ],
          "name": "stdout"
        },
        {
          "output_type": "execute_result",
          "data": {
            "text/plain": [
              "False"
            ]
          },
          "metadata": {
            "tags": []
          },
          "execution_count": 2
        }
      ]
    },
    {
      "cell_type": "markdown",
      "metadata": {
        "id": "Hc4-XwCXwxMm",
        "colab_type": "text"
      },
      "source": [
        "To Check Whether Number Is Armstrong Or Not"
      ]
    },
    {
      "cell_type": "code",
      "metadata": {
        "id": "nVC1lgUQ2RAB",
        "colab_type": "code",
        "outputId": "cd27031f-9461-4290-8233-e1f24c19628c",
        "colab": {
          "base_uri": "https://localhost:8080/",
          "height": 52
        }
      },
      "source": [
        "def  armstrong(num):\n",
        "  s=0\n",
        "  for x in [int(x) for x in num]:\n",
        "    s+=x**3\n",
        "  return int(num)==s \n",
        "\n",
        "armstrong(input(\"enter a number\"))"
      ],
      "execution_count": 0,
      "outputs": [
        {
          "output_type": "stream",
          "text": [
            "enter a number153\n"
          ],
          "name": "stdout"
        },
        {
          "output_type": "execute_result",
          "data": {
            "text/plain": [
              "True"
            ]
          },
          "metadata": {
            "tags": []
          },
          "execution_count": 19
        }
      ]
    },
    {
      "cell_type": "markdown",
      "metadata": {
        "id": "zCUE6hz75__S",
        "colab_type": "text"
      },
      "source": [
        "Concatenation Of Lists"
      ]
    },
    {
      "cell_type": "code",
      "metadata": {
        "id": "yKyzFb6jySh6",
        "colab_type": "code",
        "outputId": "22d72940-0667-4c9c-e082-622e95d639a2",
        "colab": {
          "base_uri": "https://localhost:8080/",
          "height": 34
        }
      },
      "source": [
        "def concat():\n",
        "  list1=[1,3,5,7,9]\n",
        "  list2=[2,4,6,8,10]\n",
        "  print(list1 + list2)\n",
        "concat()"
      ],
      "execution_count": 0,
      "outputs": [
        {
          "output_type": "stream",
          "text": [
            "[1, 3, 5, 7, 9, 2, 4, 6, 8, 10]\n"
          ],
          "name": "stdout"
        }
      ]
    },
    {
      "cell_type": "markdown",
      "metadata": {
        "id": "u1PNiPy77OxL",
        "colab_type": "text"
      },
      "source": [
        "Binary Search"
      ]
    },
    {
      "cell_type": "code",
      "metadata": {
        "id": "4l98vV_q7YTF",
        "colab_type": "code",
        "outputId": "cca1caa0-13bf-4489-e1c2-0a73fe37e8b6",
        "colab": {
          "base_uri": "https://localhost:8080/",
          "height": 34
        }
      },
      "source": [
        "def binarySearch(arr, l, r, x): \n",
        "\n",
        "\tif r >= l: \n",
        "\n",
        "\t\tmid = int(l + (r - l)/2)\n",
        "\n",
        "\t\tif arr[mid] == x: \n",
        "\t\t\treturn mid \n",
        "\t\t \n",
        "\t\telif arr[mid] > x: \n",
        "\t\t\treturn binarySearch(arr, l, mid-1, x) \n",
        "\n",
        "\t\telse: \n",
        "\t\t\treturn binarySearch(arr, mid + 1, r, x) \n",
        "\n",
        "\telse: \n",
        "\t\treturn 0\n",
        "\n",
        "arr = [ 2, 3, 4, 10, 40 ] \n",
        "x = 10\n",
        "\n",
        "binarySearch(arr, 0, len(arr)-1, x) \n",
        "\n"
      ],
      "execution_count": 0,
      "outputs": [
        {
          "output_type": "execute_result",
          "data": {
            "text/plain": [
              "3"
            ]
          },
          "metadata": {
            "tags": []
          },
          "execution_count": 40
        }
      ]
    },
    {
      "cell_type": "code",
      "metadata": {
        "id": "EsGXnIh0Hm59",
        "colab_type": "code",
        "outputId": "6c0b43b8-837f-438e-a994-c270ed9dd969",
        "colab": {
          "base_uri": "https://localhost:8080/",
          "height": 34
        }
      },
      "source": [
        "\n"
      ],
      "execution_count": 0,
      "outputs": [
        {
          "output_type": "execute_result",
          "data": {
            "text/plain": [
              "False"
            ]
          },
          "metadata": {
            "tags": []
          },
          "execution_count": 45
        }
      ]
    }
  ]
}